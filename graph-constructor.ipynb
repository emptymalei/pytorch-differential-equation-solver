{
 "cells": [
  {
   "cell_type": "markdown",
   "metadata": {},
   "source": [
    "**Check**\n",
    "\n",
    "- [x] Check the expression for derivatives and break it down; Checked."
   ]
  },
  {
   "cell_type": "markdown",
   "metadata": {},
   "source": [
    "# Graph Constructor for Differential Equations"
   ]
  },
  {
   "cell_type": "markdown",
   "metadata": {},
   "source": [
    "To solve the differential equation, we require a graph that represents the structure of differential equation."
   ]
  },
  {
   "cell_type": "markdown",
   "metadata": {},
   "source": [
    "Suppose we are solving the equation\n",
    "$$\n",
    "\\frac{dy(t)}{dt} = y.\n",
    "$$\n",
    "The graph for $y(t)$  can be constructed easily in PyTorch. However, we need to find a way to construct the complete network that represents the differential equation, thus we need another graph that represents $dy/dt$."
   ]
  },
  {
   "cell_type": "markdown",
   "metadata": {},
   "source": [
    "In general, we approximate the function $y(t)$ as\n",
    "$$\n",
    "y(x_i) = y(x_{init}) + x_i \\sum_k v_k R(t_i w_k + u_k)\n",
    "$$\n",
    "which leads to the approximation of $dy/dt$\n",
    "\n",
    "The derivative can be approximated using\n",
    "$$\n",
    "\\frac{dy}{dx}(x_i) = \\sum_k v_k R(t_i w_k + u_k) + x_i \\sum_k v_k R'(t_i w_k + u_k) w_k\n",
    "$$"
   ]
  },
  {
   "cell_type": "code",
   "execution_count": 1,
   "metadata": {},
   "outputs": [],
   "source": [
    "# Import modules\n",
    "import torch\n",
    "from torch.autograd import Variable\n",
    "import torch.nn as nn\n",
    "import torch.nn.functional as F\n",
    "\n",
    "import numpy as np\n",
    "import matplotlib.pyplot as plt\n",
    "import time\n",
    "\n",
    "plt.style.use('seaborn-poster')"
   ]
  },
  {
   "cell_type": "code",
   "execution_count": 66,
   "metadata": {},
   "outputs": [],
   "source": [
    "# Construct the network for y\n",
    "\n",
    "dtype=torch.Tensor\n",
    "\n",
    "## Number of input\n",
    "N = 10\n",
    "## number of neurons\n",
    "H = 10\n",
    "\n",
    "learning_rate = 1e-6\n",
    "\n",
    "data_x = np.linspace(0,1,N)\n",
    "data_ones = np.ones(N)\n",
    "data_ones_h = np.ones(H)\n",
    "data_train = np.zeros(N)\n",
    "\n",
    "ta_x = Variable( torch.from_numpy( data_x ).type(dtype), requires_grad=False )\n",
    "ta_ones = Variable( torch.from_numpy( data_ones ).type(dtype), requires_grad=False )\n",
    "ta_data_train = Variable( torch.from_numpy(data_train).type(dtype), requires_grad=False )\n",
    "\n",
    "ta_v = Variable(torch.randn(H).type(dtype), requires_grad = True)\n",
    "ta_w = Variable(torch.randn(H).type(dtype), requires_grad = True)\n",
    "ta_u = Variable(torch.randn(H).type(dtype), requires_grad = True)\n",
    "ta_ones_h =  Variable( torch.from_numpy( data_ones_h ).type(dtype), requires_grad=False )\n",
    "\n"
   ]
  },
  {
   "cell_type": "code",
   "execution_count": 67,
   "metadata": {},
   "outputs": [],
   "source": [
    "act = nn.Sigmoid()"
   ]
  },
  {
   "cell_type": "code",
   "execution_count": 68,
   "metadata": {},
   "outputs": [],
   "source": [
    "ta_trial_data = []\n",
    "\n",
    "for t in range(500000):\n",
    "    \n",
    "#     ta_y_pred = ta_x.mm( ta_w1 ).clamp( min=0 ).mm(ta_w2)\n",
    "#     print( torch.matmul( ta_v,act(torch.ger( ta_x, ta_w ) + torch.ger( ta_ones, ta_u ) ) ) )\n",
    "    ta_data_pred = 1 + ta_x * ( torch.matmul( ta_v, ( act( (torch.ger( ta_x, ta_w ) + torch.ger( ta_ones, ta_u ) ).float()  ) ) ) )\n",
    "    ta_data_derivative = ( torch.matmul( ta_v, ( act( (torch.ger( ta_x, ta_w ) + torch.ger( ta_ones, ta_u ) ).float()  ) ) ) ) + ta_x *  ( torch.matmul( ta_w*ta_v, ( act( (torch.ger( ta_x, ta_w ) + torch.ger( ta_ones, ta_u ) ).float()  ) * ( 1 - act( (torch.ger( ta_x, ta_w ) + torch.ger( ta_ones, ta_u ) ).float()  )  )  )      ) )\n",
    "    \n",
    "    ta_loss = (ta_data_derivative + ta_data_pred ).pow(2).sum()\n",
    "    \n",
    "    ta_loss.backward()\n",
    "    \n",
    "    ta_v.data -= learning_rate* ta_v.grad.data\n",
    "    ta_w.data -= learning_rate* ta_w.grad.data\n",
    "    ta_u.data -= learning_rate* ta_u.grad.data\n",
    "    \n",
    "    ta_v.grad.data.zero_()\n",
    "    ta_w.grad.data.zero_()\n",
    "    ta_u.grad.data.zero_()\n",
    "    \n",
    "    ta_trial_data.append( [t, ta_loss.data[0]] )\n",
    "\n",
    "#     print(t, ta_loss.data[0])\n",
    "\n"
   ]
  },
  {
   "cell_type": "code",
   "execution_count": 69,
   "metadata": {},
   "outputs": [
    {
     "data": {
      "image/png": "[encoded data removed]",
      "text/plain": [
       "<matplotlib.figure.Figure at 0x112132860>"
      ]
     },
     "metadata": {},
     "output_type": "display_data"
    }
   ],
   "source": [
    "ta_trial_data_plt = np.transpose(ta_trial_data)\n",
    "plt.semilogy( ta_trial_data_plt[0], ta_trial_data_plt[1], '.' )\n",
    "plt.title('Loss vs Trials')\n",
    "plt.show()"
   ]
  },
  {
   "cell_type": "markdown",
   "metadata": {},
   "source": [
    "# Reconstruct the Function"
   ]
  },
  {
   "cell_type": "code",
   "execution_count": 70,
   "metadata": {},
   "outputs": [],
   "source": [
    "test_data = 1 + ta_x * ( torch.matmul( ta_v, ( act( (torch.ger( ta_x, ta_w ) + torch.ger( ta_ones, ta_u ) ).float()  ) ) ) )"
   ]
  },
  {
   "cell_type": "code",
   "execution_count": 71,
   "metadata": {},
   "outputs": [
    {
     "data": {
      "text/plain": [
       "[<matplotlib.lines.Line2D at 0x11ab1f240>]"
      ]
     },
     "execution_count": 71,
     "metadata": {},
     "output_type": "execute_result"
    },
    {
     "data": {
      "image/png": "[encoded data removed]",
      "text/plain": [
       "<matplotlib.figure.Figure at 0x110b9fba8>"
      ]
     },
     "metadata": {},
     "output_type": "display_data"
    }
   ],
   "source": [
    "plt.plot(data_x, test_data.data.numpy() )"
   ]
  },
  {
   "cell_type": "code",
   "execution_count": null,
   "metadata": {},
   "outputs": [],
   "source": []
  }
 ],
 "metadata": {
  "kernelspec": {
   "display_name": "Python 3",
   "language": "python",
   "name": "python3"
  },
  "language_info": {
   "codemirror_mode": {
    "name": "ipython",
    "version": 3
   },
   "file_extension": ".py",
   "mimetype": "text/x-python",
   "name": "python",
   "nbconvert_exporter": "python",
   "pygments_lexer": "ipython3",
   "version": "3.6.4"
  }
 },
 "nbformat": 4,
 "nbformat_minor": 2
}
