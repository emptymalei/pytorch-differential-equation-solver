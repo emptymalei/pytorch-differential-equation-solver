{
 "cells": [
  {
   "cell_type": "markdown",
   "metadata": {},
   "source": [
    "# Graph Constructor for Differential Equations"
   ]
  },
  {
   "cell_type": "markdown",
   "metadata": {},
   "source": [
    "To solve the differential equation, we require a graph that represents the structure of differential equation."
   ]
  },
  {
   "cell_type": "markdown",
   "metadata": {},
   "source": [
    "Suppose we are solving the equation\n",
    "$$\n",
    "\\frac{dy(t)}{dt} = y.\n",
    "$$\n",
    "The graph for $y(t)$ can be constructed easily in PyTorch. However, we need to find a way to construct the complete network that represents the differential equation, thus we need another graph that represents $dy/dt$."
   ]
  },
  {
   "cell_type": "markdown",
   "metadata": {},
   "source": [
    "In general, we approximate the function $y(t)$ as\n",
    "$$\n",
    "y_{bo} = R( t_{bj} w_{1,jh} ) w_{2, ho}\n",
    "$$\n",
    "which leads to the approximation of $dy/dt$\n",
    "\n",
    "What is the actual form of the derivative???????\n",
    "$$\n",
    "\\frac{dy_o}{dt} = w_{2,ho} \\frac{dR(g_{ih})}{dg_{ih}} w_{1,jh}\n",
    "$$"
   ]
  },
  {
   "cell_type": "code",
   "execution_count": null,
   "metadata": {},
   "outputs": [],
   "source": []
  }
 ],
 "metadata": {
  "kernelspec": {
   "display_name": "Python 3",
   "language": "python",
   "name": "python3"
  },
  "language_info": {
   "codemirror_mode": {
    "name": "ipython",
    "version": 3
   },
   "file_extension": ".py",
   "mimetype": "text/x-python",
   "name": "python",
   "nbconvert_exporter": "python",
   "pygments_lexer": "ipython3",
   "version": "3.6.4"
  }
 },
 "nbformat": 4,
 "nbformat_minor": 2
}
