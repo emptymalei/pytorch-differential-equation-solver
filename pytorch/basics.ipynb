{
 "cells": [
  {
   "cell_type": "markdown",
   "metadata": {},
   "source": [
    "## Basics of PyTorch"
   ]
  },
  {
   "cell_type": "code",
   "execution_count": 31,
   "metadata": {},
   "outputs": [],
   "source": [
    "import torch\n",
    "import numpy as np"
   ]
  },
  {
   "cell_type": "markdown",
   "metadata": {},
   "source": [
    "Tensors can be created using `torch.Tensor(row, col)`"
   ]
  },
  {
   "cell_type": "code",
   "execution_count": 13,
   "metadata": {},
   "outputs": [
    {
     "name": "stdout",
     "output_type": "stream",
     "text": [
      "\n",
      " 0.0000e+00  1.5846e+29\n",
      "-1.3428e+05  1.5849e+29\n",
      " 2.8026e-45  1.5846e+29\n",
      "[torch.FloatTensor of size 3x2]\n",
      "\n",
      "torch.Size([3, 2])\n"
     ]
    }
   ],
   "source": [
    "row = 3\n",
    "col = 2\n",
    "tensor_1 = torch.Tensor( row, col )\n",
    "print(tensor_1)\n",
    "print(tensor_1.size())"
   ]
  },
  {
   "cell_type": "markdown",
   "metadata": {},
   "source": [
    "It's also useful to have random matrices."
   ]
  },
  {
   "cell_type": "code",
   "execution_count": 6,
   "metadata": {},
   "outputs": [
    {
     "data": {
      "text/plain": [
       "\n",
       " 0.3633  0.3452\n",
       " 0.1200  0.7107\n",
       " 0.8032  0.1637\n",
       "[torch.FloatTensor of size 3x2]"
      ]
     },
     "execution_count": 6,
     "metadata": {},
     "output_type": "execute_result"
    }
   ],
   "source": [
    "torch.rand( row, col )"
   ]
  },
  {
   "cell_type": "markdown",
   "metadata": {},
   "source": [
    "Addition"
   ]
  },
  {
   "cell_type": "code",
   "execution_count": 10,
   "metadata": {},
   "outputs": [
    {
     "name": "stdout",
     "output_type": "stream",
     "text": [
      "\n",
      " 0.3002  0.1198\n",
      " 0.2008  0.2433\n",
      " 0.8947  0.0649\n",
      "[torch.FloatTensor of size 3x2]\n",
      " \n",
      " 0.2185  0.5345\n",
      " 0.5298  0.0635\n",
      " 0.6049  0.9355\n",
      "[torch.FloatTensor of size 3x2]\n",
      " \n",
      " 0.5187  0.6544\n",
      " 0.7306  0.3067\n",
      " 1.4997  1.0004\n",
      "[torch.FloatTensor of size 3x2]\n",
      " \n",
      " 0.5187  0.6544\n",
      " 0.7306  0.3067\n",
      " 1.4997  1.0004\n",
      "[torch.FloatTensor of size 3x2]\n",
      "\n"
     ]
    }
   ],
   "source": [
    "tensor_rand_1 = torch.rand(row,col)\n",
    "tensor_rand_2 = torch.rand(row,col)\n",
    "print(tensor_rand_1,tensor_rand_2, tensor_rand_1+tensor_rand_2, torch.add(tensor_rand_1, tensor_rand_2) )"
   ]
  },
  {
   "cell_type": "markdown",
   "metadata": {},
   "source": [
    "`torch.and()` function can take argument and assign the results to a specific tensor."
   ]
  },
  {
   "cell_type": "code",
   "execution_count": 11,
   "metadata": {},
   "outputs": [
    {
     "name": "stdout",
     "output_type": "stream",
     "text": [
      "\n",
      " 0.0000e+00  1.5846e+29\n",
      " 0.0000e+00  1.5846e+29\n",
      " 2.8026e-45  1.5846e+29\n",
      "[torch.FloatTensor of size 3x2]\n",
      "\n",
      "\n",
      " 0.5187  0.6544\n",
      " 0.7306  0.3067\n",
      " 1.4997  1.0004\n",
      "[torch.FloatTensor of size 3x2]\n",
      "\n"
     ]
    }
   ],
   "source": [
    "tensor_rand_1p2 = torch.Tensor(row, col)\n",
    "print(tensor_rand_1p2)\n",
    "torch.add(tensor_rand_1, tensor_rand_2, out = tensor_rand_1p2)\n",
    "print(tensor_rand_1p2)"
   ]
  },
  {
   "cell_type": "markdown",
   "metadata": {},
   "source": [
    "Tensors have member function `add_()`. This `_` indicates that the tensor itself will be mutated."
   ]
  },
  {
   "cell_type": "code",
   "execution_count": 22,
   "metadata": {},
   "outputs": [
    {
     "name": "stdout",
     "output_type": "stream",
     "text": [
      "\n",
      " 0  0\n",
      " 0  0\n",
      " 0  0\n",
      "[torch.FloatTensor of size 3x2]\n",
      "\n",
      "\n",
      " 0.0000e+00  1.5846e+29\n",
      "-1.3428e+05  1.5849e+29\n",
      " 2.8026e-45  1.5846e+29\n",
      "[torch.FloatTensor of size 3x2]\n",
      "\n"
     ]
    }
   ],
   "source": [
    "tensor_2 = ( torch.Tensor(row, col) ).zero_() # initialize the tensor to be zeros\n",
    "print(tensor_2)\n",
    "tensor_2.add_(tensor_1);\n",
    "print(tensor_2)"
   ]
  },
  {
   "cell_type": "markdown",
   "metadata": {},
   "source": [
    "Slicing"
   ]
  },
  {
   "cell_type": "code",
   "execution_count": 24,
   "metadata": {},
   "outputs": [
    {
     "data": {
      "text/plain": [
       "1.584949350968926e+29"
      ]
     },
     "execution_count": 24,
     "metadata": {},
     "output_type": "execute_result"
    }
   ],
   "source": [
    "tensor_2[1,1]"
   ]
  },
  {
   "cell_type": "markdown",
   "metadata": {},
   "source": [
    "Reshape the tensor using `.view()`"
   ]
  },
  {
   "cell_type": "code",
   "execution_count": 26,
   "metadata": {},
   "outputs": [
    {
     "name": "stdout",
     "output_type": "stream",
     "text": [
      "\n",
      " 0.0000e+00\n",
      " 1.5846e+29\n",
      "-1.3428e+05\n",
      " 1.5849e+29\n",
      " 2.8026e-45\n",
      " 1.5846e+29\n",
      "[torch.FloatTensor of size 6]\n",
      " \n",
      " 0.0000e+00  1.5846e+29 -1.3428e+05\n",
      " 1.5849e+29  2.8026e-45  1.5846e+29\n",
      "[torch.FloatTensor of size 2x3]\n",
      "\n"
     ]
    }
   ],
   "source": [
    "print( tensor_2.view(row*col), tensor_2.view( col,row ) )"
   ]
  },
  {
   "cell_type": "markdown",
   "metadata": {},
   "source": [
    "Create ones and zeros"
   ]
  },
  {
   "cell_type": "code",
   "execution_count": 28,
   "metadata": {},
   "outputs": [
    {
     "name": "stdout",
     "output_type": "stream",
     "text": [
      "\n",
      " 1  1\n",
      " 1  1\n",
      " 1  1\n",
      "[torch.FloatTensor of size 3x2]\n",
      " \n",
      " 0  0\n",
      " 0  0\n",
      " 0  0\n",
      "[torch.FloatTensor of size 3x2]\n",
      "\n"
     ]
    }
   ],
   "source": [
    "print( torch.ones(row, col), torch.zeros(row, col) )"
   ]
  },
  {
   "cell_type": "markdown",
   "metadata": {},
   "source": [
    "Tensors can be converted to numpy arrays."
   ]
  },
  {
   "cell_type": "code",
   "execution_count": 30,
   "metadata": {},
   "outputs": [
    {
     "name": "stdout",
     "output_type": "stream",
     "text": [
      "\n",
      " 0.0000e+00  1.5846e+29\n",
      "-1.3428e+05  1.5849e+29\n",
      " 2.8026e-45  1.5846e+29\n",
      "[torch.FloatTensor of size 3x2]\n",
      "\n",
      "[[ 0.0000000e+00  1.5845633e+29]\n",
      " [-1.3428281e+05  1.5849494e+29]\n",
      " [ 2.8025969e-45  1.5845633e+29]]\n"
     ]
    }
   ],
   "source": [
    "print( tensor_2 )\n",
    "print( tensor_2.numpy() )"
   ]
  },
  {
   "cell_type": "markdown",
   "metadata": {},
   "source": [
    "Numpy array can be converted to tensors"
   ]
  },
  {
   "cell_type": "code",
   "execution_count": 36,
   "metadata": {},
   "outputs": [
    {
     "name": "stdout",
     "output_type": "stream",
     "text": [
      "[[1. 1.]\n",
      " [1. 1.]\n",
      " [1. 1.]]\n",
      "\n",
      " 1  1\n",
      " 1  1\n",
      " 1  1\n",
      "[torch.DoubleTensor of size 3x2]\n",
      "\n"
     ]
    }
   ],
   "source": [
    "np_arr_1 = np.ones( (row, col) )\n",
    "print(np_arr_1)\n",
    "tensor_from_np_arr_1 = torch.from_numpy( np_arr_1 )\n",
    "print(tensor_from_np_arr_1)"
   ]
  },
  {
   "cell_type": "code",
   "execution_count": null,
   "metadata": {},
   "outputs": [],
   "source": []
  }
 ],
 "metadata": {
  "kernelspec": {
   "display_name": "Python 3",
   "language": "python",
   "name": "python3"
  },
  "language_info": {
   "codemirror_mode": {
    "name": "ipython",
    "version": 3
   },
   "file_extension": ".py",
   "mimetype": "text/x-python",
   "name": "python",
   "nbconvert_exporter": "python",
   "pygments_lexer": "ipython3",
   "version": "3.6.4"
  }
 },
 "nbformat": 4,
 "nbformat_minor": 2
}
